{
 "cells": [
  {
   "cell_type": "code",
   "execution_count": 1,
   "metadata": {},
   "outputs": [],
   "source": [
    "import pandas as pd\n",
    "import numpy as np\n",
    "import math"
   ]
  },
  {
   "cell_type": "markdown",
   "metadata": {},
   "source": [
    "# Listings' files"
   ]
  },
  {
   "cell_type": "markdown",
   "metadata": {},
   "source": [
    "First let's define some useful lists and dictionaries"
   ]
  },
  {
   "cell_type": "code",
   "execution_count": 3,
   "metadata": {},
   "outputs": [],
   "source": [
    "string_attributes = ['listing_url', 'name', 'summary',\"space\", \"description\", \"notes\",\\\n",
    "                        \"transit\",\"access\",\"interaction\",\"picture_url\",\"neighbourhood_overview\", \"neighbourhood\",\\\n",
    "                        \"host_url\", \"host_name\", \"host_about\", \"host_thumbnail_url\", \"host_picture_url\", \\\n",
    "                        \"host_verifications\", \"property_type\", \"room_type\", \"bed_type\",\\\n",
    "                        \"amenities\", \"house_rules\", \"cancellation_policy\", \"city\", \"country\"]\n",
    "bit_attributes = ['is_business_travel_ready', 'require_guest_profile_picture', 'require_guest_phone_verification']\n",
    "\n",
    "date_attributes = [\"review_date\", \"host_since\"]\n",
    "\n",
    "int_attributes = ['id', 'host_id', 'accommodates', 'bathrooms', 'bedrooms', 'beds', 'square_feet', 'guests_included',\\\n",
    "                    'minimum_nights', 'maximum_nights']"
   ]
  },
  {
   "cell_type": "code",
   "execution_count": 5,
   "metadata": {},
   "outputs": [],
   "source": [
    "data_types = {}\n",
    "for a in string_attributes:\n",
    "    data_types[a] = str"
   ]
  },
  {
   "cell_type": "markdown",
   "metadata": {},
   "source": [
    "For now (as testing purpose) let's use the bracelona file only"
   ]
  },
  {
   "cell_type": "code",
   "execution_count": 7,
   "metadata": {},
   "outputs": [],
   "source": [
    "filename = \"../Dataset/barcelona_listings.csv\"\n",
    "\n",
    "\n",
    "file = open(filename, newline='')\n",
    "df = pd.read_csv(filename, dtype=data_types)"
   ]
  },
  {
   "cell_type": "code",
   "execution_count": 10,
   "metadata": {},
   "outputs": [],
   "source": [
    "def addQuotes(string):\n",
    "    string = str(string)\n",
    "    return string\n",
    "\n",
    "def replace_f_t_by_bit(obj):\n",
    "    f_t = str(obj)\n",
    "    if(f_t == 't'):\n",
    "        return 1\n",
    "    return 0"
   ]
  },
  {
   "cell_type": "code",
   "execution_count": 11,
   "metadata": {},
   "outputs": [],
   "source": [
    "df = df.rename(columns = {'neighborhood_overview': 'neighbourhood_overview'})\n",
    "\n",
    "columns = df.columns.tolist()\n",
    "\n",
    "# add quotes arround every string typed attributes\n",
    "for a in string_attributes:\n",
    "    df[a] = df[a].apply(addQuotes)\n",
    "\n",
    "# replace f or t for Bit typed attributes\n",
    "for a in bit_attributes:\n",
    "    df[a] = df[a].apply(replace_f_t_by_bit)"
   ]
  },
  {
   "cell_type": "markdown",
   "metadata": {},
   "source": [
    "## Query time\n",
    "From here we will create the queries\n",
    "\n"
   ]
  },
  {
   "cell_type": "code",
   "execution_count": 14,
   "metadata": {},
   "outputs": [],
   "source": [
    "tables = [\"Listing\", \"Host\", \"Neighbourhood\", \"House_properties\",\\\n",
    "                \"Economic_properties\", \"Administrative_properties\",\\\n",
    "                \"Review_scores\", \"City\", \"Location\"]\n",
    "\n",
    "#city of host_neighbourhood: say for now that is the same as the listing's\n",
    "# don't forget to add neighbourhood to the Table when insert host and listing\n",
    "# need to keeps tracks of neighbourhood already added\n",
    "#NEIGHBOURHOOD is special so does NOT have a dictionary\n",
    "tables_to_attributes = \\\n",
    "    {\"Listing\": {\"listing_id\": \"id\", \"listing_url\": \"listing_url\", \"listing_name\": \"name\", \"listing_summary\": \"summary\", \"listing_space\": \"space\", \"listing_description\": \"description\", \"listing_notes\": \"notes\", \"listing_transit\": \"transit\", \"listing_access\": \"access\", \"listing_interaction\": \"interaction\",\"listing_picture_url\": \"picture_url\", \"listing_neighbourhood_overview\" : \"neighbourhood_overview\", \"host_id\": \"host_id\"},\\\n",
    "     \"Host\": {\"host_id\" : \"host_id\", \"host_url\" : \"host_url\", \"host_name\" : \"host_name\", \"host_since\" : \"host_since\", \"host_about\" : \"host_about\", \"host_response_time\" : \"host_response_time\", \"host_response_rate\" : \"host_response_rate\", \"host_thumbnail_url\" : \"host_thumbnail_url\", \"host_picture_url\" : \"host_picture_url\", \"host_verifications\" : \"host_verifications\", \"neighbourhood_name\": \"host_neighbourhood\", \"city_name\": \"city\"},\\\n",
    "     \"Neighbourhood\": [\"neighbourhood_name\", \"city_name\", \"country_code\"],\\\n",
    "     \"House_properties\": {\"property_type\": \"property_type\", \"room_type\": \"room_type\", \"accomodates\": \"accomodates\", \"bathrooms\": \"bathrooms\", \"bedrooms\": \"bedrooms\", \"beds\": \"beds\", \"bed_type\": \"bed_type\", \"amenities\":  \"amenities\", \"square_feet\": \"square_feet\", \"listing_id\": \"id\"}, \\\n",
    "     \"Economic_properties\": {\"price\": \"price\", \"weekly_price\": \"weekly_price\", \"monthly_price\": \"monthly_price\", \"security_deposit\": \"security_deposit\", \"cleaning_fee\": \"cleaning_fee\", \"guests_included\": \"guests_included\", \"extra_people\": \"extra_people\", \"listing_id\": \"id\"},\\\n",
    "     \"Administrative_properties\": {\"rules\": \"house_rules\", \"minimum_nights\": \"minimum_nights\", \"maximum_nights\": \"maximum_nights\", \"is_business_travel_ready\": \"is_business_travel_ready\", \"cancellation_policy\":  \"cancellation_policy\", \"require_guest_profile_picture\": \"require_guest_profile_picture\", \"require_guest_phone_verification\": \"require_guest_phone_verification\", \"listing_id\": \"id\"},\\\n",
    "     \"Review_scores\": {\"review_scores_rating\": \"review_scores_rating\", \"review_scores_accuracy\": \"review_scores_accuracy\", \"review_scores_cleanliness\": \"review_scores_cleanliness\", \"review_scores_checkin\": \"review_scores_checkin\", \"review_scores_communication\": \"review_scores_communication\", \"review_scores_location\": \"review_scores_location\", \"review_scores_value\": \"review_scores_value\", \"listing_id\": \"id\"},\\\n",
    "     \"City\": {\"city_name\": \"city\", \"country_code\": \"country_code\", \"country\": \"country\",\\\n",
    "     \"Location\": {\"latitude\": \"latitude\", \"longitude\": \"longitude\", \"listing_id\": \"id\", \"neighbourhood_name\": \"neighbourhood\", \"city_name\": \"city\"}}}\n",
    "\n",
    "# use something like INSERT INTO `BITTESTTABLE` VALUES('XYZ', b'0');\n",
    "# to insert bit values\n",
    "\n",
    "# use math.isnan(x) to check if float is NaN value before convert to int\n",
    "\n"
   ]
  },
  {
   "cell_type": "code",
   "execution_count": null,
   "metadata": {},
   "outputs": [],
   "source": [
    "# in these store the primary key of the corresponding row\n",
    "added_city = []\n",
    "added_neighbourhood = []\n",
    "added_host = []\n",
    "\n",
    "\n",
    "for index, row in df.iterrows():\n",
    "    # first let"
   ]
  }
 ],
 "metadata": {
  "kernelspec": {
   "display_name": "Python 3",
   "language": "python",
   "name": "python3"
  },
  "language_info": {
   "codemirror_mode": {
    "name": "ipython",
    "version": 3
   },
   "file_extension": ".py",
   "mimetype": "text/x-python",
   "name": "python",
   "nbconvert_exporter": "python",
   "pygments_lexer": "ipython3",
   "version": "3.7.1"
  }
 },
 "nbformat": 4,
 "nbformat_minor": 2
}
