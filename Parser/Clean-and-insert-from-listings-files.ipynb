{
 "cells": [
  {
   "cell_type": "code",
   "execution_count": 2,
   "metadata": {},
   "outputs": [],
   "source": [
    "import pandas as pd\n",
    "import numpy as np\n",
    "import math"
   ]
  },
  {
   "cell_type": "markdown",
   "metadata": {},
   "source": [
    "# Listings' files"
   ]
  },
  {
   "cell_type": "markdown",
   "metadata": {},
   "source": [
    "First let's define some useful lists and dictionaries"
   ]
  },
  {
   "cell_type": "code",
   "execution_count": 3,
   "metadata": {},
   "outputs": [],
   "source": [
    "string_attributes = ['listing_url', 'name', 'summary',\"space\", \"description\", \"notes\",\\\n",
    "                        \"transit\",\"access\",\"interaction\",\"picture_url\",\"neighbourhood_overview\", \"neighbourhood\",\\\n",
    "                        \"host_url\", \"host_name\", \"host_about\", \"host_thumbnail_url\", \"host_picture_url\", \\\n",
    "                        \"host_verifications\", \"property_type\", \"room_type\", \"bed_type\",\\\n",
    "                        \"amenities\", \"house_rules\", \"cancellation_policy\", \"city\", \"country\"]\n",
    "bit_attributes = ['is_business_travel_ready', 'require_guest_profile_picture', 'require_guest_phone_verification']\n",
    "\n",
    "date_attributes = [\"review_date\", \"host_since\"]\n",
    "\n",
    "int_attributes = ['id', 'host_id', 'accommodates', 'bathrooms', 'bedrooms', 'beds', 'square_feet', 'guests_included',\\\n",
    "                    'minimum_nights', 'maximum_nights']"
   ]
  },
  {
   "cell_type": "code",
   "execution_count": 4,
   "metadata": {},
   "outputs": [],
   "source": [
    "data_types = {}\n",
    "for a in string_attributes:\n",
    "    data_types[a] = str"
   ]
  },
  {
   "cell_type": "markdown",
   "metadata": {},
   "source": [
    "For now (as testing purpose) let's use the bracelona file only"
   ]
  },
  {
   "cell_type": "code",
   "execution_count": 5,
   "metadata": {},
   "outputs": [],
   "source": [
    "filename = \"../Dataset/barcelona_listings.csv\"\n",
    "\n",
    "\n",
    "file = open(filename, newline='')\n",
    "df = pd.read_csv(filename, dtype=data_types)"
   ]
  },
  {
   "cell_type": "code",
   "execution_count": 6,
   "metadata": {},
   "outputs": [],
   "source": [
    "tables_to_attributes = \\\n",
    "        {\"Listing\": {\"listing_id\": \"id\", \"listing_url\": \"listing_url\", \"listing_name\": \"name\", \"listing_summary\": \"summary\", \"listing_space\": \"space\", \"listing_description\": \"description\", \"listing_notes\": \"notes\", \"listing_transit\": \"transit\", \"listing_access\": \"access\", \"listing_interaction\": \"interaction\",\"listing_picture_url\": \"picture_url\", \"listing_neighbourhood_overview\" : \"neighbourhood_overview\", \"host_id\": \"host_id\",\\\n",
    "         \"price\": \"price\", \"weekly_price\": \"weekly_price\", \"monthly_price\": \"monthly_price\", \"security_deposit\": \"security_deposit\", \"cleaning_fee\": \"cleaning_fee\", \"guests_included\": \"guests_included\", \"extra_people\": \"extra_people\",\\\n",
    "         \"accomodates\": \"accomodates\", \"bathrooms\": \"bathrooms\", \"bedrooms\": \"bedrooms\", \"beds\": \"beds\", \"square_feet\": \"square_feet\",\\\n",
    "         \"rules\": \"house_rules\", \"minimum_nights\": \"minimum_nights\", \"maximum_nights\": \"maximum_nights\", \"is_business_travel_ready\": \"is_business_travel_ready\", \"require_guest_profile_picture\": \"require_guest_profile_picture\", \"require_guest_phone_verification\": \"require_guest_phone_verification\",\\\n",
    "         \"review_scores_rating\": \"review_scores_rating\", \"review_scores_accuracy\": \"review_scores_accuracy\", \"review_scores_cleanliness\": \"review_scores_cleanliness\", \"review_scores_checkin\": \"review_scores_checkin\", \"review_scores_communication\": \"review_scores_communication\", \"review_scores_location\": \"review_scores_location\", \"review_scores_value\": \"review_scores_value\",\\\n",
    "         \"latitude\": \"latitude\", \"longitude\": \"longitude\"},\\\n",
    "         \"Host\": {\"host_id\" : \"host_id\", \"host_url\" : \"host_url\", \"host_name\" : \"host_name\", \"host_since\" : \"host_since\", \"host_about\" : \"host_about\", \"host_response_time\" : \"host_response_time\", \"host_response_rate\" : \"host_response_rate\", \"host_thumbnail_url\" : \"host_thumbnail_url\", \"host_picture_url\" : \"host_picture_url\", \"host_verifications\" : \"host_verifications\", \"neighbourhood_name\": \"host_neighbourhood\", \"city_name\": \"city\"},\\\n",
    "         \"Neighbourhood\": [\"neighbourhood_name\", \"city_name\", \"country_code\"],\\\n",
    "         \"City\": {\"city_name\": \"city\", \"country_id\": \"country_id\",\\\n",
    "         \"Location\": {\"latitude\": \"latitude\", \"longitude\": \"longitude\", \"listing_id\": \"id\", \"neighbourhood_name\": \"neighbourhood\", \"city_name\": \"city\"}}}\n",
    "\n",
    "\n"
   ]
  },
  {
   "cell_type": "code",
   "execution_count": 10,
   "metadata": {},
   "outputs": [
    {
     "data": {
      "text/plain": [
       "0         6\n",
       "1         8\n",
       "2         2\n",
       "3         2\n",
       "4         2\n",
       "5         3\n",
       "6         6\n",
       "7         4\n",
       "8         6\n",
       "9         5\n",
       "10        6\n",
       "11        8\n",
       "12       10\n",
       "13        2\n",
       "14        1\n",
       "15        1\n",
       "16        2\n",
       "17        1\n",
       "18        4\n",
       "19        2\n",
       "20        2\n",
       "21        6\n",
       "22        9\n",
       "23        6\n",
       "24        6\n",
       "25        3\n",
       "26        6\n",
       "27        7\n",
       "28        2\n",
       "29        4\n",
       "         ..\n",
       "13065     1\n",
       "13066     6\n",
       "13067     5\n",
       "13068     7\n",
       "13069     6\n",
       "13070     2\n",
       "13071     4\n",
       "13072     2\n",
       "13073     3\n",
       "13074     3\n",
       "13075     5\n",
       "13076     6\n",
       "13077     4\n",
       "13078     6\n",
       "13079     2\n",
       "13080     3\n",
       "13081     6\n",
       "13082     4\n",
       "13083     6\n",
       "13084     2\n",
       "13085     1\n",
       "13086     1\n",
       "13087     2\n",
       "13088     2\n",
       "13089     4\n",
       "13090     4\n",
       "13091     2\n",
       "13092     3\n",
       "13093     2\n",
       "13094     2\n",
       "Name: accommodates, Length: 13095, dtype: int64"
      ]
     },
     "execution_count": 10,
     "metadata": {},
     "output_type": "execute_result"
    }
   ],
   "source": [
    "df['accommodates']"
   ]
  },
  {
   "cell_type": "code",
   "execution_count": null,
   "metadata": {},
   "outputs": [],
   "source": []
  },
  {
   "cell_type": "code",
   "execution_count": null,
   "metadata": {},
   "outputs": [],
   "source": []
  },
  {
   "cell_type": "code",
   "execution_count": null,
   "metadata": {},
   "outputs": [],
   "source": []
  },
  {
   "cell_type": "code",
   "execution_count": null,
   "metadata": {},
   "outputs": [],
   "source": []
  }
 ],
 "metadata": {
  "kernelspec": {
   "display_name": "Python 3",
   "language": "python",
   "name": "python3"
  },
  "language_info": {
   "codemirror_mode": {
    "name": "ipython",
    "version": 3
   },
   "file_extension": ".py",
   "mimetype": "text/x-python",
   "name": "python",
   "nbconvert_exporter": "python",
   "pygments_lexer": "ipython3",
   "version": "3.7.1"
  }
 },
 "nbformat": 4,
 "nbformat_minor": 2
}
