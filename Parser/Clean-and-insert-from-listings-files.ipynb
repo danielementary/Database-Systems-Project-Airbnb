{
 "cells": [
  {
   "cell_type": "code",
   "execution_count": 1,
   "metadata": {},
   "outputs": [],
   "source": [
    "import pandas as pd\n",
    "import numpy as np\n",
    "import math"
   ]
  },
  {
   "cell_type": "markdown",
   "metadata": {},
   "source": [
    "# Listings' files"
   ]
  },
  {
   "cell_type": "markdown",
   "metadata": {},
   "source": [
    "First let's define some useful lists and dictionaries"
   ]
  },
  {
   "cell_type": "code",
   "execution_count": 2,
   "metadata": {},
   "outputs": [],
   "source": [
    "string_attributes = ['listing_url', 'name', 'summary',\"space\", \"description\", \"notes\",\\\n",
    "                        \"transit\",\"access\",\"interaction\",\"picture_url\",\"neighbourhood_overview\", \"neighbourhood\",\\\n",
    "                        \"host_url\", \"host_name\", \"host_about\", \"host_thumbnail_url\", \"host_picture_url\", \\\n",
    "                        \"host_verifications\", \"property_type\", \"room_type\", \"bed_type\",\\\n",
    "                        \"amenities\", \"house_rules\", \"cancellation_policy\", \"city\", \"country\"]\n",
    "bit_attributes = ['is_business_travel_ready', 'require_guest_profile_picture', 'require_guest_phone_verification']\n",
    "\n",
    "date_attributes = [\"review_date\", \"host_since\"]\n",
    "\n",
    "int_attributes = ['id', 'host_id', 'accommodates', 'bathrooms', 'bedrooms', 'beds', 'square_feet', 'guests_included',\\\n",
    "                    'minimum_nights', 'maximum_nights']"
   ]
  },
  {
   "cell_type": "code",
   "execution_count": 3,
   "metadata": {},
   "outputs": [],
   "source": [
    "data_types = {}\n",
    "for a in string_attributes:\n",
    "    data_types[a] = str"
   ]
  },
  {
   "cell_type": "markdown",
   "metadata": {},
   "source": [
    "For now (as testing purpose) let's use the bracelona file only"
   ]
  },
  {
   "cell_type": "code",
   "execution_count": 4,
   "metadata": {},
   "outputs": [],
   "source": [
    "filename = \"../Dataset/barcelona_listings.csv\"\n",
    "\n",
    "\n",
    "file = open(filename, newline='')\n",
    "df = pd.read_csv(filename, dtype=data_types)"
   ]
  },
  {
   "cell_type": "code",
   "execution_count": 22,
   "metadata": {},
   "outputs": [],
   "source": [
    "tables_to_attributes = \\\n",
    "    {\"Listing\": {\"listing_id\": \"id\", \"listing_url\": \"listing_url\", \"listing_name\": \"name\", \"listing_summary\": \"summary\", \"listing_space\": \"space\", \"listing_description\": \"description\", \"listing_notes\": \"notes\", \"listing_transit\": \"transit\", \"listing_access\": \"access\", \"listing_interaction\": \"interaction\",\"listing_picture_url\": \"picture_url\", \"listing_neighbourhood_overview\" : \"neighbourhood_overview\",\\\n",
    "     \"accommodates\": \"accommodates\", \"bathrooms\": \"bathrooms\", \"bedrooms\": \"bedrooms\", \"beds\": \"beds\", \"square_feet\": \"square_feet\",\\\n",
    "     \"price\": \"price\", \"weekly_price\": \"weekly_price\", \"monthly_price\": \"monthly_price\", \"security_deposit\": \"security_deposit\", \"cleaning_fee\": \"cleaning_fee\", \"guests_included\": \"guests_included\", \"extra_people\": \"extra_people\",\\\n",
    "     \"rules\": \"house_rules\", \"minimum_nights\": \"minimum_nights\", \"maximum_nights\": \"maximum_nights\", \"is_business_travel_ready\": \"is_business_travel_ready\", \"require_guest_profile_picture\": \"require_guest_profile_picture\", \"require_guest_phone_verification\": \"require_guest_phone_verification\",\\\n",
    "     \"review_scores_rating\": \"review_scores_rating\", \"review_scores_accuracy\": \"review_scores_accuracy\", \"review_scores_cleanliness\": \"review_scores_cleanliness\", \"review_scores_checkin\": \"review_scores_checkin\", \"review_scores_communication\": \"review_scores_communication\", \"review_scores_location\": \"review_scores_location\", \"review_scores_value\": \"review_scores_value\",\\\n",
    "     \"latitude\": \"latitude\", \"longitude\": \"longitude\",\\\n",
    "     \"host_id\": \"host_id\", \"neighbourhood_id\": \"neighbourhood_id\", \"property_type_id\": \"property_type_id\", \"room_type_id\": \"room_type_id\", \"bed_type_id\": \"bed_type_id\", \"cancellation_policy_id\": \"cancellation_policy_id\"},\\\n",
    "     \"Host\": {\"host_id\" : \"host_id\", \"host_url\" : \"host_url\", \"host_name\" : \"host_name\", \"host_since\" : \"host_since\", \"host_about\" : \"host_about\", \"host_response_time\" : \"host_response_time\", \"host_response_rate\" : \"host_response_rate\", \"host_thumbnail_url\" : \"host_thumbnail_url\", \"host_picture_url\" : \"host_picture_url\", \"neighbourhood_id\": \"neighbourhood_id\"},\\\n",
    "     \"Neighbourhood\": {\"neighbourhood_id\":\"neighbourhood_id\", \"neighbourhood_name\":\"neighbourhood_name\",\"city_id\": \"city_id\"},\\\n",
    "     \"City\": {\"city_id\": \"city_id\", \"city_name\": \"city\", \"country_id\": \"country_id\"},\\\n",
    "     \"Property_type\": {\"property_type_id\": \"property_type_id\", \"property_type_name\": \"property_type_name\"}, \\\n",
    "     \"Room_type\" : {\"room_type_id\": \"room_type_id\", \"room_type_name\": \"room_type_name\"},\\\n",
    "     \"Bed_type\": {\"bed_type_id\": \"bed_type_id\", \"bed_type_name\": \"bed_type_name\"},\\\n",
    "     \"Cancellation_policy\": {\"cancellation_policy_id\": \"cancellation_policy_id\", \"cancellation_policy_name\": \"cancellation_policy_name\"},\\\n",
    "     \"Country\": {\"country_id\": \"country_id\", \"country_code\": \"country_code\", \"country_name\": \"country_name\"},\\\n",
    "     \"Amenity\": {\"amenity_id\": \"amenity_id\", \"amenity_name\": \"amenity_name\"},\\\n",
    "     \"Host_verification\": {\"host_verification_id\": \"host_verification_id\", \"host_verification_description\": \"host_verification_description\"},\\\n",
    "     \"Listing_amenity_map\": {\"listing_id\": \"listing_id\", \"amenity_id\": \"amenity_id\"},\\\n",
    "     \"Host_verification_map\" :{\"host_id\": \"host_id\", \"host_verification_id\": \"host_verification_id\"}}\n",
    "\n",
    "\n",
    "df = df.rename(columns = {'neighborhood_overview': 'neighbourhood_overview'})"
   ]
  },
  {
   "cell_type": "code",
   "execution_count": 24,
   "metadata": {},
   "outputs": [
    {
     "name": "stdout",
     "output_type": "stream",
     "text": [
      "['id', 'listing_url', 'name', 'summary', 'space', 'description', 'notes', 'transit', 'access', 'interaction', 'picture_url', 'neighbourhood_overview', 'accommodates', 'bathrooms', 'bedrooms', 'beds', 'square_feet', 'price', 'weekly_price', 'monthly_price', 'security_deposit', 'cleaning_fee', 'guests_included', 'extra_people', 'house_rules', 'minimum_nights', 'maximum_nights', 'is_business_travel_ready', 'require_guest_profile_picture', 'require_guest_phone_verification', 'review_scores_rating', 'review_scores_accuracy', 'review_scores_cleanliness', 'review_scores_checkin', 'review_scores_communication', 'review_scores_location', 'review_scores_value', 'latitude', 'longitude', 'host_id', 'neighbourhood', 'property_type', 'room_type', 'bed_type', 'cancellation_policy']\n"
     ]
    },
    {
     "data": {
      "text/plain": [
       "0                Apartment\n",
       "1                Apartment\n",
       "2                Apartment\n",
       "3                Apartment\n",
       "4                Apartment\n",
       "5                Apartment\n",
       "6                Apartment\n",
       "7                Apartment\n",
       "8                Apartment\n",
       "9                Apartment\n",
       "10               Apartment\n",
       "11               Apartment\n",
       "12               Apartment\n",
       "13       Bed and breakfast\n",
       "14       Bed and breakfast\n",
       "15       Bed and breakfast\n",
       "16       Bed and breakfast\n",
       "17               Apartment\n",
       "18                    Loft\n",
       "19               Apartment\n",
       "20               Apartment\n",
       "21               Apartment\n",
       "22               Apartment\n",
       "23               Apartment\n",
       "24               Apartment\n",
       "25               Apartment\n",
       "26               Apartment\n",
       "27               Apartment\n",
       "28               Apartment\n",
       "29       Bed and breakfast\n",
       "               ...        \n",
       "13065            Apartment\n",
       "13066            Apartment\n",
       "13067               Hostel\n",
       "13068            Apartment\n",
       "13069               Hostel\n",
       "13070            Apartment\n",
       "13071               Hostel\n",
       "13072            Apartment\n",
       "13073            Apartment\n",
       "13074            Apartment\n",
       "13075               Hostel\n",
       "13076            Apartment\n",
       "13077            Apartment\n",
       "13078               Hostel\n",
       "13079            Apartment\n",
       "13080            Apartment\n",
       "13081            Apartment\n",
       "13082            Apartment\n",
       "13083            Apartment\n",
       "13084            Apartment\n",
       "13085                House\n",
       "13086            Apartment\n",
       "13087            Apartment\n",
       "13088            Apartment\n",
       "13089            Apartment\n",
       "13090            Apartment\n",
       "13091            Apartment\n",
       "13092            Apartment\n",
       "13093            Apartment\n",
       "13094            Apartment\n",
       "Name: property_type, Length: 13095, dtype: object"
      ]
     },
     "execution_count": 24,
     "metadata": {},
     "output_type": "execute_result"
    }
   ],
   "source": [
    "listings_atttributes = list(tables_to_attributes[\"Listing\"].values())\n",
    "\n",
    "listings_atttributes.remove(\"neighbourhood_id\")\n",
    "listings_atttributes.remove(\"property_type_id\")\n",
    "listings_atttributes.remove(\"room_type_id\")\n",
    "listings_atttributes.remove(\"bed_type_id\")\n",
    "listings_atttributes.remove(\"cancellation_policy_id\")\n",
    "\n",
    "normalized_attr = []\n",
    "normalized_attr.append(\"neighbourhood\")\n",
    "normalized_attr.append(\"property_type\")\n",
    "normalized_attr.append(\"room_type\")\n",
    "normalized_attr.append(\"bed_type\")\n",
    "normalized_attr.append(\"cancellation_policy\")\n",
    "\n",
    "listings_atttributes += normalized_attr\n",
    "print(listings_atttributes)\n",
    "\n",
    "listings = df[listings_atttributes]\n",
    "listings = listings.drop_duplicates()\n",
    "listings['property_type']\n"
   ]
  },
  {
   "cell_type": "code",
   "execution_count": 10,
   "metadata": {},
   "outputs": [],
   "source": [
    "def clean_float_and_int(a):\n",
    "    a = str(a)\n",
    "    a = a.replace(\"$\", \"\")\n",
    "    a = a.replace(\",\", \"\")\n",
    "    return float(a)"
   ]
  },
  {
   "cell_type": "code",
   "execution_count": null,
   "metadata": {},
   "outputs": [],
   "source": []
  },
  {
   "cell_type": "code",
   "execution_count": null,
   "metadata": {},
   "outputs": [],
   "source": []
  },
  {
   "cell_type": "code",
   "execution_count": null,
   "metadata": {},
   "outputs": [],
   "source": []
  }
 ],
 "metadata": {
  "kernelspec": {
   "display_name": "Python 3",
   "language": "python",
   "name": "python3"
  },
  "language_info": {
   "codemirror_mode": {
    "name": "ipython",
    "version": 3
   },
   "file_extension": ".py",
   "mimetype": "text/x-python",
   "name": "python",
   "nbconvert_exporter": "python",
   "pygments_lexer": "ipython3",
   "version": "3.7.1"
  }
 },
 "nbformat": 4,
 "nbformat_minor": 2
}
