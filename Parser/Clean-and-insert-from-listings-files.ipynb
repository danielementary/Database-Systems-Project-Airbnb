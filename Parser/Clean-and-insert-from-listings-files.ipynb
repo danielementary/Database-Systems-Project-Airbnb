{
 "cells": [
  {
   "cell_type": "code",
   "execution_count": 2,
   "metadata": {},
   "outputs": [],
   "source": [
    "import pandas as pd\n",
    "import numpy as np\n",
    "import math"
   ]
  },
  {
   "cell_type": "markdown",
   "metadata": {},
   "source": [
    "# Listings' files"
   ]
  },
  {
   "cell_type": "markdown",
   "metadata": {},
   "source": [
    "First let's define some useful lists and dictionaries"
   ]
  },
  {
   "cell_type": "code",
   "execution_count": 3,
   "metadata": {},
   "outputs": [],
   "source": [
    "string_attributes = ['listing_url', 'name', 'summary',\"space\", \"description\", \"notes\",\\\n",
    "                        \"transit\",\"access\",\"interaction\",\"picture_url\",\"neighbourhood_overview\", \"neighbourhood\",\\\n",
    "                        \"host_url\", \"host_name\", \"host_about\", \"host_thumbnail_url\", \"host_picture_url\", \\\n",
    "                        \"host_verifications\", \"property_type\", \"room_type\", \"bed_type\",\\\n",
    "                        \"amenities\", \"house_rules\", \"cancellation_policy\", \"city\", \"country\"]\n",
    "bit_attributes = ['is_business_travel_ready', 'require_guest_profile_picture', 'require_guest_phone_verification']\n",
    "\n",
    "date_attributes = [\"review_date\", \"host_since\"]\n",
    "\n",
    "int_attributes = ['id', 'host_id', 'accommodates', 'bathrooms', 'bedrooms', 'beds', 'square_feet', 'guests_included',\\\n",
    "                    'minimum_nights', 'maximum_nights']"
   ]
  },
  {
   "cell_type": "code",
   "execution_count": 4,
   "metadata": {},
   "outputs": [],
   "source": [
    "data_types = {}\n",
    "for a in string_attributes:\n",
    "    data_types[a] = str"
   ]
  },
  {
   "cell_type": "markdown",
   "metadata": {},
   "source": [
    "For now (as testing purpose) let's use the bracelona file only"
   ]
  },
  {
   "cell_type": "code",
   "execution_count": 5,
   "metadata": {},
   "outputs": [],
   "source": [
    "filename = \"../Dataset/barcelona_listings.csv\"\n",
    "\n",
    "\n",
    "file = open(filename, newline='')\n",
    "df = pd.read_csv(filename, dtype=data_types)\n",
    "df[\"city\"] = \"Barcelona\""
   ]
  },
  {
   "cell_type": "code",
   "execution_count": 6,
   "metadata": {},
   "outputs": [],
   "source": [
    "tables_to_attributes = \\\n",
    "    {\"Listing\": {\"listing_id\": \"id\", \"listing_url\": \"listing_url\", \"listing_name\": \"name\", \"listing_summary\": \"summary\", \"listing_space\": \"space\", \"listing_description\": \"description\", \"listing_notes\": \"notes\", \"listing_transit\": \"transit\", \"listing_access\": \"access\", \"listing_interaction\": \"interaction\",\"listing_picture_url\": \"picture_url\", \"listing_neighbourhood_overview\" : \"neighbourhood_overview\",\\\n",
    "     \"accommodates\": \"accommodates\", \"bathrooms\": \"bathrooms\", \"bedrooms\": \"bedrooms\", \"beds\": \"beds\", \"square_feet\": \"square_feet\",\\\n",
    "     \"price\": \"price\", \"weekly_price\": \"weekly_price\", \"monthly_price\": \"monthly_price\", \"security_deposit\": \"security_deposit\", \"cleaning_fee\": \"cleaning_fee\", \"guests_included\": \"guests_included\", \"extra_people\": \"extra_people\",\\\n",
    "     \"rules\": \"house_rules\", \"minimum_nights\": \"minimum_nights\", \"maximum_nights\": \"maximum_nights\", \"is_business_travel_ready\": \"is_business_travel_ready\", \"require_guest_profile_picture\": \"require_guest_profile_picture\", \"require_guest_phone_verification\": \"require_guest_phone_verification\",\\\n",
    "     \"review_scores_rating\": \"review_scores_rating\", \"review_scores_accuracy\": \"review_scores_accuracy\", \"review_scores_cleanliness\": \"review_scores_cleanliness\", \"review_scores_checkin\": \"review_scores_checkin\", \"review_scores_communication\": \"review_scores_communication\", \"review_scores_location\": \"review_scores_location\", \"review_scores_value\": \"review_scores_value\",\\\n",
    "     \"latitude\": \"latitude\", \"longitude\": \"longitude\",\\\n",
    "     \"host_id\": \"host_id\", \"neighbourhood_id\": \"neighbourhood_id\", \"property_type_id\": \"property_type_id\", \"room_type_id\": \"room_type_id\", \"bed_type_id\": \"bed_type_id\", \"cancellation_policy_id\": \"cancellation_policy_id\"},\\\n",
    "     \"Host\": {\"host_id\" : \"host_id\", \"host_url\" : \"host_url\", \"host_name\" : \"host_name\", \"host_since\" : \"host_since\", \"host_about\" : \"host_about\", \"host_response_time\" : \"host_response_time\", \"host_response_rate\" : \"host_response_rate\", \"host_thumbnail_url\" : \"host_thumbnail_url\", \"host_picture_url\" : \"host_picture_url\", \"neighbourhood_id\": \"neighbourhood_id\"},\\\n",
    "     \"Neighbourhood\": {\"neighbourhood_id\":\"neighbourhood_id\", \"neighbourhood_name\":\"neighbourhood_name\",\"city_id\": \"city_id\"},\\\n",
    "     \"City\": {\"city_id\": \"city_id\", \"city_name\": \"city\", \"country_id\": \"country_id\"},\\\n",
    "     \"Property_type\": {\"property_type_id\": \"property_type_id\", \"property_type_name\": \"property_type_name\"}, \\\n",
    "     \"Room_type\" : {\"room_type_id\": \"room_type_id\", \"room_type_name\": \"room_type_name\"},\\\n",
    "     \"Bed_type\": {\"bed_type_id\": \"bed_type_id\", \"bed_type_name\": \"bed_type_name\"},\\\n",
    "     \"Cancellation_policy\": {\"cancellation_policy_id\": \"cancellation_policy_id\", \"cancellation_policy_name\": \"cancellation_policy_name\"},\\\n",
    "     \"Country\": {\"country_id\": \"country_id\", \"country_code\": \"country_code\", \"country_name\": \"country_name\"},\\\n",
    "     \"Amenity\": {\"amenity_id\": \"amenity_id\", \"amenity_name\": \"amenity_name\"},\\\n",
    "     \"Host_verification\": {\"host_verification_id\": \"host_verification_id\", \"host_verification_description\": \"host_verification_description\"},\\\n",
    "     \"Listing_amenity_map\": {\"listing_id\": \"listing_id\", \"amenity_id\": \"amenity_id\"},\\\n",
    "     \"Host_verification_map\" :{\"host_id\": \"host_id\", \"host_verification_id\": \"host_verification_id\"}}\n",
    "\n",
    "\n",
    "df = df.rename(columns = {'neighborhood_overview': 'neighbourhood_overview'})"
   ]
  },
  {
   "cell_type": "code",
   "execution_count": 7,
   "metadata": {},
   "outputs": [],
   "source": [
    "listings_atttributes = list(tables_to_attributes[\"Listing\"].values())\n",
    "\n",
    "listings_atttributes.remove(\"neighbourhood_id\")\n",
    "listings_atttributes.remove(\"property_type_id\")\n",
    "listings_atttributes.remove(\"room_type_id\")\n",
    "listings_atttributes.remove(\"bed_type_id\")\n",
    "listings_atttributes.remove(\"cancellation_policy_id\")\n",
    "\n",
    "normalized_attr = []\n",
    "normalized_attr.append(\"neighbourhood\")\n",
    "normalized_attr.append(\"property_type\")\n",
    "normalized_attr.append(\"room_type\")\n",
    "normalized_attr.append(\"bed_type\")\n",
    "normalized_attr.append(\"cancellation_policy\")\n",
    "\n",
    "listings_atttributes += normalized_attr\n",
    "\n",
    "\n",
    "listings = df[listings_atttributes]\n",
    "listings = listings.drop_duplicates()\n",
    "\n",
    "l = zip(range(len(listings.duplicated(\"id\").tolist())), listings.duplicated(\"id\"))\n",
    "l2 = [i for i in l if i[1]]"
   ]
  },
  {
   "cell_type": "code",
   "execution_count": 8,
   "metadata": {},
   "outputs": [],
   "source": [
    "def clean_float_and_int(a):\n",
    "    a = str(a)\n",
    "    a = a.replace(\"$\", \"\")\n",
    "    a = a.replace(\",\", \"\")\n",
    "    return float(a)"
   ]
  },
  {
   "cell_type": "code",
   "execution_count": null,
   "metadata": {},
   "outputs": [],
   "source": []
  },
  {
   "cell_type": "code",
   "execution_count": null,
   "metadata": {},
   "outputs": [],
   "source": []
  },
  {
   "cell_type": "code",
   "execution_count": null,
   "metadata": {},
   "outputs": [],
   "source": []
  },
  {
   "cell_type": "code",
   "execution_count": null,
   "metadata": {},
   "outputs": [],
   "source": []
  },
  {
   "cell_type": "code",
   "execution_count": 9,
   "metadata": {},
   "outputs": [],
   "source": [
    "def f(*a):\n",
    "    for g in a:\n",
    "        print(g)"
   ]
  },
  {
   "cell_type": "code",
   "execution_count": 10,
   "metadata": {},
   "outputs": [
    {
     "name": "stdout",
     "output_type": "stream",
     "text": [
      "a\n",
      "b\n",
      "c\n"
     ]
    }
   ],
   "source": [
    "f(\"a\", \"b\", \"c\")"
   ]
  },
  {
   "cell_type": "code",
   "execution_count": 11,
   "metadata": {},
   "outputs": [],
   "source": [
    "neighbourhoods = df[[\"neighbourhood\", \"city\"]].append(df[[\"host_neighbourhood\", \"city\"]].rename(columns={\"host_neighbourhood\": \"neighbourhood\"}))\n",
    "neighbourhoods = neighbourhoods.drop_duplicates()"
   ]
  },
  {
   "cell_type": "code",
   "execution_count": 12,
   "metadata": {},
   "outputs": [],
   "source": [
    "l = []\n",
    "for id, row in neighbourhoods.iterrows():\n",
    "    l.append((row[\"neighbourhood\"], row[\"city\"]))"
   ]
  },
  {
   "cell_type": "code",
   "execution_count": null,
   "metadata": {},
   "outputs": [],
   "source": []
  },
  {
   "cell_type": "code",
   "execution_count": null,
   "metadata": {},
   "outputs": [],
   "source": []
  },
  {
   "cell_type": "code",
   "execution_count": 14,
   "metadata": {},
   "outputs": [],
   "source": [
    "df_berlin = pd.read_csv(\"../Dataset/berlin_listings_filtered.csv\")\n",
    "df_barcelona = pd.read_csv(\"../Dataset/barcelona_listings.csv\")\n",
    "df_madrid = pd.read_csv(\"../Dataset/barcelona_listings.csv\")"
   ]
  },
  {
   "cell_type": "code",
   "execution_count": 15,
   "metadata": {},
   "outputs": [],
   "source": [
    "df = df_berlin.append(df_barcelona).append(df_madrid)\n"
   ]
  },
  {
   "cell_type": "code",
   "execution_count": 16,
   "metadata": {},
   "outputs": [],
   "source": [
    "# this tokenizer is built to read csv files output by the cleaning process,\n",
    "# it follows our rules so is absolutely not general purpose\n",
    "\n",
    "def tokenize(filename):\n",
    "    file = open(filename, 'r')\n",
    "\n",
    "    lines = file.readlines()\n",
    "\n",
    "    # first extracts columns name:\n",
    "    columns = tokenize_line(lines[0])\n",
    "    print(columns, \"  len = \", len(columns))\n",
    "\n",
    "    for i in range(1, len(lines)):\n",
    "        values = tokenize_line(lines[i])\n",
    "        \n",
    "        #\n",
    "        print(len(values))\n",
    "\n",
    "\n",
    "\n",
    "def tokenize_line(string):\n",
    "    string_len = len(string)\n",
    "    result = []\n",
    "    in_string = False\n",
    "    cur_elmt = \"\"\n",
    "    i = 0\n",
    "    while i < string_len:\n",
    "        c = string[i]\n",
    "        if (c == \",\" or c== \"\\n\") and not in_string:\n",
    "            cur_elmt = cur_elmt.replace(\"\\n\", \"\")\n",
    "            result.append(cur_elmt)\n",
    "            cur_elmt = \"\"\n",
    "        else:\n",
    "            if in_string and c == \"'\" :\n",
    "                if string[i+1] == \"'\":\n",
    "                    cur_elmt += \"'\"\n",
    "                    i += 1\n",
    "                else:\n",
    "                    in_string = False\n",
    "            elif not in_string and c == \"'\":\n",
    "                in_string = True\n",
    "            cur_elmt += c\n",
    "        i += 1\n",
    "    return result\n"
   ]
  },
  {
   "cell_type": "code",
   "execution_count": 17,
   "metadata": {},
   "outputs": [
    {
     "data": {
      "text/plain": [
       "['1', '2', '3', \"'salut, je m''appelle henri'\", \"''\", '1']"
      ]
     },
     "execution_count": 17,
     "metadata": {},
     "output_type": "execute_result"
    }
   ],
   "source": [
    "test = \"\"\"1,2,3,'salut, je m''appelle henri','',1\\n\"\"\"\n",
    "tokenize_line(test)"
   ]
  },
  {
   "cell_type": "code",
   "execution_count": 18,
   "metadata": {},
   "outputs": [],
   "source": [
    "import csv_tokenizer as tok"
   ]
  },
  {
   "cell_type": "code",
   "execution_count": 19,
   "metadata": {},
   "outputs": [],
   "source": [
    "columns, values_list = tok.tokenize(\"insert/insert_reviewers.csv\")"
   ]
  },
  {
   "cell_type": "code",
   "execution_count": 20,
   "metadata": {},
   "outputs": [],
   "source": [
    "ids = []\n",
    "for v in values_list:\n",
    "    ids.append(v[0])"
   ]
  },
  {
   "cell_type": "code",
   "execution_count": 31,
   "metadata": {},
   "outputs": [],
   "source": [
    "maxi = 0\n",
    "for i in ids:\n",
    "    i = int(i)\n",
    "    if maxi < i:\n",
    "        maxi = i"
   ]
  },
  {
   "cell_type": "code",
   "execution_count": 28,
   "metadata": {},
   "outputs": [
    {
     "data": {
      "text/plain": [
       "0"
      ]
     },
     "execution_count": 28,
     "metadata": {},
     "output_type": "execute_result"
    }
   ],
   "source": [
    "len(ids) - len(list(set(ids)))"
   ]
  },
  {
   "cell_type": "code",
   "execution_count": 32,
   "metadata": {},
   "outputs": [
    {
     "data": {
      "text/plain": [
       "224518248"
      ]
     },
     "execution_count": 32,
     "metadata": {},
     "output_type": "execute_result"
    }
   ],
   "source": [
    "maxi"
   ]
  },
  {
   "cell_type": "code",
   "execution_count": 22,
   "metadata": {},
   "outputs": [],
   "source": [
    "columns, values_list = tok.tokenize(\"insert/insert_Listing.csv\")"
   ]
  },
  {
   "cell_type": "code",
   "execution_count": 25,
   "metadata": {},
   "outputs": [
    {
     "data": {
      "text/plain": [
       "['listing_id',\n",
       " 'listing_url',\n",
       " 'listing_name',\n",
       " 'listing_summary',\n",
       " 'listing_space',\n",
       " 'listing_description',\n",
       " 'listing_notes',\n",
       " 'listing_transit',\n",
       " 'listing_access',\n",
       " 'listing_interaction',\n",
       " 'listing_picture_url',\n",
       " 'listing_neighbourhood_overview',\n",
       " 'accommodates',\n",
       " 'bathrooms',\n",
       " 'bedrooms',\n",
       " 'beds',\n",
       " 'square_feet',\n",
       " 'price',\n",
       " 'weekly_price',\n",
       " 'monthly_price',\n",
       " 'security_deposit',\n",
       " 'cleaning_fee',\n",
       " 'guests_included',\n",
       " 'extra_people',\n",
       " 'rules',\n",
       " 'minimum_nights',\n",
       " 'maximum_nights',\n",
       " 'is_business_travel_ready',\n",
       " 'require_guest_profile_picture',\n",
       " 'require_guest_phone_verification',\n",
       " 'review_scores_rating',\n",
       " 'review_scores_accuracy',\n",
       " 'review_scores_cleanliness',\n",
       " 'review_scores_checkin',\n",
       " 'review_scores_communication',\n",
       " 'review_scores_location',\n",
       " 'review_scores_value',\n",
       " 'latitude',\n",
       " 'longitude',\n",
       " 'host_id',\n",
       " 'neighbourhood_id',\n",
       " 'property_type_id',\n",
       " 'room_type_id',\n",
       " 'bed_type_id',\n",
       " 'cancellation_policy_id']"
      ]
     },
     "execution_count": 25,
     "metadata": {},
     "output_type": "execute_result"
    }
   ],
   "source": [
    "columns"
   ]
  },
  {
   "cell_type": "code",
   "execution_count": 24,
   "metadata": {},
   "outputs": [
    {
     "data": {
      "text/plain": [
       "44"
      ]
     },
     "execution_count": 24,
     "metadata": {},
     "output_type": "execute_result"
    }
   ],
   "source": [
    "len(values_list[0])"
   ]
  },
  {
   "cell_type": "code",
   "execution_count": null,
   "metadata": {},
   "outputs": [],
   "source": []
  }
 ],
 "metadata": {
  "kernelspec": {
   "display_name": "Python 3",
   "language": "python",
   "name": "python3"
  },
  "language_info": {
   "codemirror_mode": {
    "name": "ipython",
    "version": 3
   },
   "file_extension": ".py",
   "mimetype": "text/x-python",
   "name": "python",
   "nbconvert_exporter": "python",
   "pygments_lexer": "ipython3",
   "version": "3.7.1"
  }
 },
 "nbformat": 4,
 "nbformat_minor": 2
}
